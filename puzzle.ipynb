{
 "cells": [
  {
   "cell_type": "code",
   "execution_count": 1,
   "id": "f98b2bfd-6dbc-4cff-9d21-201c67c00003",
   "metadata": {},
   "outputs": [],
   "source": [
    "import numpy as np\n",
    "import matplotlib.pyplot as plt\n",
    "import matplotlib.colors as mcolors\n",
    "import cv2\n",
    "\n",
    "character =['A', 'B', 'C', 'D', 'E', 'F', 'G', 'H', 'I', 'J', 'K', 'L', 'M']"
   ]
  },
  {
   "cell_type": "markdown",
   "id": "e393faaa-81f6-4165-bebc-f39e20a83ba4",
   "metadata": {},
   "source": [
    "# **建立圖形**"
   ]
  },
  {
   "cell_type": "code",
   "execution_count": 4,
   "id": "585ea6fc-b807-49b3-8e9e-de3812a272d4",
   "metadata": {},
   "outputs": [
    {
     "name": "stdout",
     "output_type": "stream",
     "text": [
      "[[15. 15. 15. 15. 15. 15. 15.  0. 15. 15. 15. 15. 15. 15. 15.]\n",
      " [15. 15. 15. 15. 15. 15.  0.  0.  0. 15. 15. 15. 15. 15. 15.]\n",
      " [15. 15. 15. 15. 15.  0.  0.  0.  0.  0. 15. 15. 15. 15. 15.]\n",
      " [15. 15. 15. 15.  0.  0.  0.  0.  0.  0.  0. 15. 15. 15. 15.]\n",
      " [15. 15. 15.  0.  0.  0.  0.  0.  0.  0.  0.  0. 15. 15. 15.]\n",
      " [15. 15.  0.  0.  0.  0.  0.  0.  0.  0.  0.  0.  0. 15. 15.]\n",
      " [15.  0.  0.  0.  0.  0.  0.  0.  0.  0.  0.  0.  0.  0. 15.]\n",
      " [ 0.  0.  0.  0.  0.  0.  0.  0.  0.  0.  0.  0.  0.  0.  0.]]\n",
      "[[15. 15. 15. 15. 15. 15. 15.  0. 15. 15. 15. 15. 15. 15. 15.]\n",
      " [15. 15. 15. 15. 15. 15.  0.  1.  0. 15. 15. 15. 15. 15. 15.]\n",
      " [15. 15. 15. 15. 15.  0.  1.  0.  1.  0. 15. 15. 15. 15. 15.]\n",
      " [15. 15. 15. 15.  0.  1.  0.  1.  0.  1.  0. 15. 15. 15. 15.]\n",
      " [15. 15. 15.  0.  1.  0.  1.  0.  1.  0.  1.  0. 15. 15. 15.]\n",
      " [15. 15.  0.  1.  0.  1.  0.  1.  0.  1.  0.  1.  0. 15. 15.]\n",
      " [15.  0.  1.  0.  1.  0.  1.  0.  1.  0.  1.  0.  1.  0. 15.]\n",
      " [ 0.  1.  0.  1.  0.  1.  0.  1.  0.  1.  0.  1.  0.  1.  0.]]\n",
      "28 36\n"
     ]
    }
   ],
   "source": [
    "ori_map = np.zeros((8,15))\n",
    "bw_map = np.zeros((8,15))\n",
    "for i in range(8):\n",
    "    for j in range(15):\n",
    "        if (i+j < 7) | (i+(14-j) < 7):\n",
    "            bw_map[i][j] = 15\n",
    "            ori_map[i][j] = 15\n",
    "        elif (i+j)%2:\n",
    "            bw_map[i][j] = 0\n",
    "            ori_map[i][j] = 0\n",
    "        else:\n",
    "            bw_map[i][j] = 1\n",
    "            ori_map[i][j] = 0\n",
    "print(ori_map)\n",
    "print(bw_map)\n",
    "print((bw_map==1).sum(), (bw_map==0).sum())"
   ]
  },
  {
   "cell_type": "code",
   "execution_count": 6,
   "id": "688c5c67-19d4-46e0-af73-e2acf252d8d7",
   "metadata": {
    "scrolled": true
   },
   "outputs": [
    {
     "name": "stdout",
     "output_type": "stream",
     "text": [
      "[[ 0  7]\n",
      " [ 1  6]\n",
      " [ 1  8]\n",
      " [ 2  5]\n",
      " [ 2  7]\n",
      " [ 2  9]\n",
      " [ 3  4]\n",
      " [ 3  6]\n",
      " [ 3  8]\n",
      " [ 3 10]\n",
      " [ 4  3]\n",
      " [ 4  5]\n",
      " [ 4  7]\n",
      " [ 4  9]\n",
      " [ 4 11]\n",
      " [ 5  2]\n",
      " [ 5  4]\n",
      " [ 5  6]\n",
      " [ 5  8]\n",
      " [ 5 10]\n",
      " [ 5 12]\n",
      " [ 6  1]\n",
      " [ 6  3]\n",
      " [ 6  5]\n",
      " [ 6  7]\n",
      " [ 6  9]\n",
      " [ 6 11]\n",
      " [ 6 13]\n",
      " [ 7  0]\n",
      " [ 7  2]\n",
      " [ 7  4]\n",
      " [ 7  6]\n",
      " [ 7  8]\n",
      " [ 7 10]\n",
      " [ 7 12]\n",
      " [ 7 14]]\n",
      "[[ 1  7]\n",
      " [ 2  6]\n",
      " [ 2  8]\n",
      " [ 3  5]\n",
      " [ 3  7]\n",
      " [ 3  9]\n",
      " [ 4  4]\n",
      " [ 4  6]\n",
      " [ 4  8]\n",
      " [ 4 10]\n",
      " [ 5  3]\n",
      " [ 5  5]\n",
      " [ 5  7]\n",
      " [ 5  9]\n",
      " [ 5 11]\n",
      " [ 6  2]\n",
      " [ 6  4]\n",
      " [ 6  6]\n",
      " [ 6  8]\n",
      " [ 6 10]\n",
      " [ 6 12]\n",
      " [ 7  1]\n",
      " [ 7  3]\n",
      " [ 7  5]\n",
      " [ 7  7]\n",
      " [ 7  9]\n",
      " [ 7 11]\n",
      " [ 7 13]]\n",
      "[[ 0  7]\n",
      " [ 1  6]\n",
      " [ 1  7]\n",
      " [ 1  8]\n",
      " [ 2  5]\n",
      " [ 2  6]\n",
      " [ 2  7]\n",
      " [ 2  8]\n",
      " [ 2  9]\n",
      " [ 3  4]\n",
      " [ 3  5]\n",
      " [ 3  6]\n",
      " [ 3  7]\n",
      " [ 3  8]\n",
      " [ 3  9]\n",
      " [ 3 10]\n",
      " [ 4  3]\n",
      " [ 4  4]\n",
      " [ 4  5]\n",
      " [ 4  6]\n",
      " [ 4  7]\n",
      " [ 4  8]\n",
      " [ 4  9]\n",
      " [ 4 10]\n",
      " [ 4 11]\n",
      " [ 5  2]\n",
      " [ 5  3]\n",
      " [ 5  4]\n",
      " [ 5  5]\n",
      " [ 5  6]\n",
      " [ 5  7]\n",
      " [ 5  8]\n",
      " [ 5  9]\n",
      " [ 5 10]\n",
      " [ 5 11]\n",
      " [ 5 12]\n",
      " [ 6  1]\n",
      " [ 6  2]\n",
      " [ 6  3]\n",
      " [ 6  4]\n",
      " [ 6  5]\n",
      " [ 6  6]\n",
      " [ 6  7]\n",
      " [ 6  8]\n",
      " [ 6  9]\n",
      " [ 6 10]\n",
      " [ 6 11]\n",
      " [ 6 12]\n",
      " [ 6 13]\n",
      " [ 7  0]\n",
      " [ 7  1]\n",
      " [ 7  2]\n",
      " [ 7  3]\n",
      " [ 7  4]\n",
      " [ 7  5]\n",
      " [ 7  6]\n",
      " [ 7  7]\n",
      " [ 7  8]\n",
      " [ 7  9]\n",
      " [ 7 10]\n",
      " [ 7 11]\n",
      " [ 7 12]\n",
      " [ 7 13]\n",
      " [ 7 14]]\n"
     ]
    }
   ],
   "source": [
    "coor_bw = [np.argwhere(bw_map == 0), np.argwhere(bw_map == 1), np.argwhere(bw_map != 15)]\n",
    "for i in range(3):\n",
    "    print(coor_bw[i])"
   ]
  },
  {
   "cell_type": "markdown",
   "id": "be5e2f6a-5a74-4c40-b695-0dd5d808cf7f",
   "metadata": {},
   "source": [
    "# **建立每片拼圖**"
   ]
  },
  {
   "cell_type": "code",
   "execution_count": 10,
   "id": "78825578-8c4d-4134-be0b-33ac71459ce8",
   "metadata": {},
   "outputs": [],
   "source": [
    "puz=[[x] for x in range(13)]\n",
    "# 3 H字形\n",
    "puz[0]= [((0,0),(0,1),(-1,1),(1,1),(0,-1),(-1,-1),(1,-1)), ((0,0),(1,0),(1,-1),(1,1),(-1,0),(-1,-1),(-1,1))] \n",
    "# 0 長方形\n",
    "puz[1] = [((0,0),(0,1),(0,2),(1,0),(1,1),(1,2)), ((0,0),(0,1),(1,0),(1,1),(2,0),(2,1))]\n",
    "# 1 ㄇ字形\n",
    "puz[2]= [((0,0),(0,1),(0,-1),(-1,1),(-1,-1)), ((0,0),(1,0),(-1,0),(1,1),(-1,1)), ((0,0),(0,-1),(0,1),(1,-1), (1,1)), ((0,0),(-1,0),(1,0),(1,-1),(-1,-1))]\n",
    "# 1 長拐杖\n",
    "puz[3] = [((0,0),(0,1),(0,2),(0,3),(1,3)), ((0,0),(1,0),(2,0),(3,0),(3,-1)), ((0,0),(0,-1),(0,-2),(0,-3),(-1,-3)), ((0,0),(-1,0),(-2,0),(-3,0),(-3,1))] \n",
    "# 1 Z字形\n",
    "puz[4] = [((0,0),(0,1),(1,1),(0,-1),(-1,-1)), ((0,0),(1,0),(1,-1),(-1,0),(-1,1))] \n",
    "# 1 迴力鏢\n",
    "puz[5] = [((0,0),(0,1),(0,2),(1,2),(2,2)), ((0,0),(1,0),(2,0),(2,-1),(2,-2)), ((0,0),(0,-1),(0,-2),(-1,-2),(-2,-2)), ((0,0),(-1,0),(-2,0),(-2,1),(-2,2))]\n",
    "# 0 方形\n",
    "puz[6] = [((0,0),(0,1),(1,0),(1,1))] \n",
    "# 1 側長T字\n",
    "puz[7] = [((0,0),(0,1),(-1,1),(0,2),(0,3)), ((0,0),(1,0),(1,1),(2,0),(3,0)), ((0,0),(0,-1),(1,-1),(0,-2),(0,-3)), ((0,0),(-1,0),(-1,-1),(-2,0),(-3,0))]\n",
    "# 1 長腳T字\n",
    "puz[8] = [((0,0),(0,1),(0,2),(-1,2),(1,1)), ((0,0),(1,0),(2,0),(2,1),(1,-1)), ((0,0),(0,-1),(0,-2),(1,-2),(-1,-1)), ((0,0),(-1,0),(-2,0),(-2,-1),(-1,1))]\n",
    "# 1 長閃電\n",
    "puz[9] = [((0,0),(0,1),(0,2),(-1,2),(-1,3)), ((0,0),(1,0),(2,0),(2,1),(3,1)), ((0,0),(0,-1),(0,-2),(1,-2),(1,-3)), ((0,0),(-1,0),(-2,0),(-2,-1),(-3,-1))]\n",
    "# 0 閃電\n",
    "puz[10] = [((0,0),(0,1),(1,1),(1,2)), ((0,0),(1,0),(1,-1),(2,-1))] \n",
    "# 0 拐杖\n",
    "puz[11] = [((0,0),(0,1),(0,2),(-1,2)), ((0,0),(1,0),(2,0),(2,1)), ((0,0),(0,-1),(0,-2),(1,-2)), ((0,0),(-1,0),(-2,0),(-2,-1))] \n",
    "# 2 T字形\n",
    "puz[12]= [((0,0),(0,1),(0,2),(1,1)), ((0,0),(1,0),(2,0),(1,-1)), ((0,0),(0,-1),(0,-2),(-1,-1)), ((0,0),(-1,0),(-2,0),(-1,1))]"
   ]
  },
  {
   "cell_type": "code",
   "execution_count": 12,
   "id": "9779f443-f22e-4f33-850e-c174a42648d3",
   "metadata": {},
   "outputs": [
    {
     "name": "stdout",
     "output_type": "stream",
     "text": [
      "[, 0, 2, 0, 0, 0, 0, 2, 0, 0, 0, 2, 2, 1]"
     ]
    }
   ],
   "source": [
    "l=[12,1,10,8,5,4,0,6,7,9,2,3,11]\n",
    "a = [2,2,2,2,0,0,0,0,0,0,0,1,0]\n",
    "print(\"[\", end='')\n",
    "for i in l:\n",
    "    print(',',a[i], end='')\n",
    "print(\"]\", end='')"
   ]
  },
  {
   "cell_type": "code",
   "execution_count": 14,
   "id": "d6e67a08-63f1-4bfa-9bec-da1e80f01e1e",
   "metadata": {
    "scrolled": true
   },
   "outputs": [
    {
     "data": {
      "image/png": "[encoded data removed]",
      "text/plain": [
       "<Figure size 1000x1000 with 2 Axes>"
      ]
     },
     "metadata": {},
     "output_type": "display_data"
    },
    {
     "data": {
      "image/png": "[encoded data removed]",
      "text/plain": [
       "<Figure size 1000x1000 with 2 Axes>"
      ]
     },
     "metadata": {},
     "output_type": "display_data"
    },
    {
     "data": {
      "image/png": "[encoded data removed]",
      "text/plain": [
       "<Figure size 1000x1000 with 4 Axes>"
      ]
     },
     "metadata": {},
     "output_type": "display_data"
    },
    {
     "data": {
      "image/png": "[encoded data removed]",
      "text/plain": [
       "<Figure size 1000x1000 with 4 Axes>"
      ]
     },
     "metadata": {},
     "output_type": "display_data"
    },
    {
     "data": {
      "image/png": "[encoded data removed]",
      "text/plain": [
       "<Figure size 1000x1000 with 2 Axes>"
      ]
     },
     "metadata": {},
     "output_type": "display_data"
    },
    {
     "data": {
      "image/png": "[encoded data removed]",
      "text/plain": [
       "<Figure size 1000x1000 with 4 Axes>"
      ]
     },
     "metadata": {},
     "output_type": "display_data"
    },
    {
     "data": {
      "image/png": "[encoded data removed]",
      "text/plain": [
       "<Figure size 1000x1000 with 1 Axes>"
      ]
     },
     "metadata": {},
     "output_type": "display_data"
    },
    {
     "data": {
      "image/png": "[encoded data removed]",
      "text/plain": [
       "<Figure size 1000x1000 with 4 Axes>"
      ]
     },
     "metadata": {},
     "output_type": "display_data"
    },
    {
     "data": {
      "image/png": "[encoded data removed]",
      "text/plain": [
       "<Figure size 1000x1000 with 4 Axes>"
      ]
     },
     "metadata": {},
     "output_type": "display_data"
    },
    {
     "data": {
      "image/png": "[encoded data removed]",
      "text/plain": [
       "<Figure size 1000x1000 with 4 Axes>"
      ]
     },
     "metadata": {},
     "output_type": "display_data"
    },
    {
     "data": {
      "image/png": "[encoded data removed]",
      "text/plain": [
       "<Figure size 1000x1000 with 2 Axes>"
      ]
     },
     "metadata": {},
     "output_type": "display_data"
    },
    {
     "data": {
      "image/png": "[encoded data removed]",
      "text/plain": [
       "<Figure size 1000x1000 with 4 Axes>"
      ]
     },
     "metadata": {},
     "output_type": "display_data"
    },
    {
     "data": {
      "image/png": "[encoded data removed]",
      "text/plain": [
       "<Figure size 1000x1000 with 4 Axes>"
      ]
     },
     "metadata": {},
     "output_type": "display_data"
    }
   ],
   "source": [
    "#fig, ax = plt.subplots(13, 4)\n",
    "\n",
    "for pn, pu in enumerate(puz):\n",
    "    #print(\"========\")\n",
    "    #print(\"block\",pn)\n",
    "\n",
    "    plt.figure(figsize=(10, 10))\n",
    "    for i, p in enumerate(pu):\n",
    "        \n",
    "        b = np.zeros((7,7))\n",
    "        b[3][3] = 1\n",
    "        for pos in p[1:]:\n",
    "            b[pos[0]+3][pos[1]+3] = 1\n",
    "\n",
    "        ax = plt.subplot(13, 4, pn*4+i+1)\n",
    "        ax.imshow(b, cmap='gray')#, interpolation='nearest')\n",
    "        ax.grid(False)\n",
    "        ax.set_xticks([])\n",
    "        ax.set_yticks([])\n",
    "    \n",
    "        #ax[pn][i].imshow(b, cmap='gray')#, interpolation='nearest')\n",
    "        #ax[pn][i].grid(False)\n",
    "        #ax[pn][i].set_xticks([])\n",
    "        #ax[pn][i].set_yticks([])\n",
    "plt.show()\n"
   ]
  },
  {
   "cell_type": "markdown",
   "id": "c27f4e2d-4ebf-4aa3-9040-63941f4c7830",
   "metadata": {},
   "source": [
    "**W 1+1 or 2**   \n",
    "**B 10**"
   ]
  },
  {
   "cell_type": "markdown",
   "id": "722ddab9-6848-4616-ab83-05c995e03461",
   "metadata": {},
   "source": [
    "# **Function**"
   ]
  },
  {
   "cell_type": "code",
   "execution_count": 18,
   "id": "93b02123-82e6-4948-aeff-c5868c2a5a76",
   "metadata": {},
   "outputs": [
    {
     "name": "stdout",
     "output_type": "stream",
     "text": [
      "[0, 2, 0, 0, 0, 0, 2, 0, 0, 0, 2, 2, 1]\n",
      "[0, 2, 1, 1, 0, 0, 2, 0, 0, 0, 2, 2, 0]\n",
      "[0, 2, 1, 0, 1, 0, 2, 0, 0, 0, 2, 2, 0]\n",
      "[0, 2, 1, 0, 0, 1, 2, 0, 0, 0, 2, 2, 0]\n",
      "[0, 2, 1, 0, 0, 0, 2, 1, 0, 0, 2, 2, 0]\n",
      "[0, 2, 1, 0, 0, 0, 2, 0, 1, 0, 2, 2, 0]\n",
      "[0, 2, 1, 0, 0, 0, 2, 0, 0, 1, 2, 2, 0]\n",
      "[0, 2, 0, 1, 1, 0, 2, 0, 0, 0, 2, 2, 0]\n",
      "[0, 2, 0, 1, 0, 1, 2, 0, 0, 0, 2, 2, 0]\n",
      "[0, 2, 0, 1, 0, 0, 2, 1, 0, 0, 2, 2, 0]\n",
      "[0, 2, 0, 1, 0, 0, 2, 0, 1, 0, 2, 2, 0]\n",
      "[0, 2, 0, 1, 0, 0, 2, 0, 0, 1, 2, 2, 0]\n",
      "[0, 2, 0, 0, 1, 1, 2, 0, 0, 0, 2, 2, 0]\n",
      "[0, 2, 0, 0, 1, 0, 2, 1, 0, 0, 2, 2, 0]\n",
      "[0, 2, 0, 0, 1, 0, 2, 0, 1, 0, 2, 2, 0]\n",
      "[0, 2, 0, 0, 1, 0, 2, 0, 0, 1, 2, 2, 0]\n",
      "[0, 2, 0, 0, 0, 1, 2, 1, 0, 0, 2, 2, 0]\n",
      "[0, 2, 0, 0, 0, 1, 2, 0, 1, 0, 2, 2, 0]\n",
      "[0, 2, 0, 0, 0, 1, 2, 0, 0, 1, 2, 2, 0]\n",
      "[0, 2, 0, 0, 0, 0, 2, 1, 1, 0, 2, 2, 0]\n",
      "[0, 2, 0, 0, 0, 0, 2, 1, 0, 1, 2, 2, 0]\n",
      "[0, 2, 0, 0, 0, 0, 2, 0, 1, 1, 2, 2, 0]\n"
     ]
    }
   ],
   "source": [
    "# W 2\n",
    "center_color = []\n",
    "center_color.append([0, 2, 0, 0, 0, 0, 2, 0, 0, 0, 2, 2, 1]) # 2 for black or white, 0 for B, 1 for W\n",
    "# W 1+1\n",
    "temp = [2,3,4,5,7,8,9]\n",
    "for i in temp:\n",
    "    for j in temp[temp.index(i)+1:]:\n",
    "        cc = [0, 2, 0, 0, 0, 0, 2, 0, 0, 0, 2, 2, 0]\n",
    "        cc[i]=1\n",
    "        cc[j]=1\n",
    "        center_color.append(cc)\n",
    "for cc in center_color:\n",
    "    print(cc)"
   ]
  },
  {
   "cell_type": "code",
   "execution_count": 65,
   "id": "8229ed23-0aed-4117-8003-fe4b8092d52b",
   "metadata": {},
   "outputs": [],
   "source": [
    "def show_map(mmap, save=False, solution=False):\n",
    "    global fig\n",
    "    fig+=1\n",
    "    filename = \"D:\\\\project\\\\puzzle\\\\pic\\\\\"+str(fig)+r\".jpg\" if not solution else \"D:\\\\project\\\\puzzle\\\\pic\\\\full_\"+str(fig)+r\".jpg\"\n",
    "    # print(filename)\n",
    "    plt.figure(figsize=(mmap.shape[1], mmap.shape[0]))\n",
    "\n",
    "    # 定義顏色映射\n",
    "    colors = ['white'] + [plt.cm.jet(i/14) for i in range(1, 15)] + ['black']\n",
    "    cmap = mcolors.ListedColormap(colors)\n",
    "\n",
    "    # 定義顏色邊界\n",
    "    bounds = [0] + list(range(1, 15)) + [15]\n",
    "    norm = mcolors.BoundaryNorm(bounds, cmap.N)\n",
    "\n",
    "    # 顯示圖像\n",
    "    plt.imshow(mmap, cmap=cmap, norm=norm)\n",
    "    if save:\n",
    "        plt.savefig(filename)\n",
    "        plt.close()  # 關閉圖形以釋放資源\n",
    "    else:\n",
    "        plt.show()"
   ]
  },
  {
   "cell_type": "code",
   "execution_count": 67,
   "id": "7ecfcd1e-9f99-43b0-b7de-9a2d25080e05",
   "metadata": {},
   "outputs": [],
   "source": [
    "def check_fragments(mmap, coor_bw, center_color, used_puz):\n",
    "    mmap2 = mmap.copy()\n",
    "    mmap2[mmap2 ==  0] = -1\n",
    "    mmap2[mmap2 != -1] =  0\n",
    "    mmap2[mmap2 == -1] =  1\n",
    "    num_labels, labels = cv2.connectedComponents(mmap2.astype('uint8'), connectivity=4)\n",
    "    for label in range(1, num_labels):  # 標籤從 1 開始，0 是背景\n",
    "        # 找出小於4的空隙，無法擺入拼圖\n",
    "        frag = np.sum(labels == label)\n",
    "        if frag < 4:\n",
    "            return False\n",
    "        elif frag < 8:\n",
    "\n",
    "            for puz_i, p in enumerate(puz):\n",
    "                if (puz_size[puz_i]!=frag) or (used_puz[puz_i]):\n",
    "                    continue\n",
    "                \n",
    "                bw = center_color[puz_i]\n",
    "                #centers = list( set(coor_bw[bw]).intersection(set(np.argwhere(labels == label))) )\n",
    "                l1 = coor_bw[bw]\n",
    "                l2 = np.argwhere(labels == label)\n",
    "                centers = np.array([x for x in l2 if x in l1])\n",
    "                for center in centers:\n",
    "                    for puz_angle in p:\n",
    "                        put_flag = True\n",
    "                        # check\n",
    "                        new_map = mmap.copy()\n",
    "                        new_coor_bw = coor_bw.copy()\n",
    "                        for i,j in puz_angle:\n",
    "                            x = center[0]+i\n",
    "                            y = center[1]+j\n",
    "                            if not ( (0<=x<8)and(0<=y<15) ):\n",
    "                                put_flag = False\n",
    "                                break\n",
    "                            if new_map[x][y] != 0:\n",
    "                                put_flag = False\n",
    "                                break\n",
    "                            else:\n",
    "                                # putting\n",
    "                                new_map[x][y] = puz_i+1\n",
    "                                for c in range(3):\n",
    "                                    del_i = np.where((new_coor_bw[c][:, 0] == x) & (new_coor_bw[c][:, 1] == y))\n",
    "                                    new_coor_bw[c] = np.delete(new_coor_bw[c], del_i, axis=0)\n",
    "                    \n",
    "                        if put_flag:\n",
    "                            used_puz[puz_i] = True\n",
    "                            return new_map, new_coor_bw, used_puz, puz_i\n",
    "            return False\n",
    "        elif frag == 8: # 4 + 4\n",
    "            ps = np.array(puz_size)\n",
    "            pu = np.array(used_puz)\n",
    "            if len(np.argwhere(ps[pu==False]==4)) < 2:\n",
    "                return False\n",
    "        elif frag == 9: # 4 + 5\n",
    "            ps = np.array(puz_size)\n",
    "            pu = np.array(used_puz)\n",
    "            if (len(np.argwhere(ps[pu==False]==4)) < 1) or (len(np.argwhere(ps[pu==False]==5)) < 1):\n",
    "                return False\n",
    "        elif frag == 10: # 5 + 5\n",
    "            ps = np.array(puz_size)\n",
    "            pu = np.array(used_puz)\n",
    "            if len(np.argwhere(ps[pu==False]==5)) < 2:\n",
    "                return False\n",
    "    return True"
   ]
  },
  {
   "cell_type": "code",
   "execution_count": 69,
   "id": "85713036-ea3e-403a-9e36-70b158d696d7",
   "metadata": {},
   "outputs": [],
   "source": [
    "def putting(mmap, coor_bw, center_color, used_puz, puz_i):\n",
    "    bw = center_color[puz_i]\n",
    "    # print(\"Start\")\n",
    "    for center in coor_bw[bw]:\n",
    "        # print(\"center\")\n",
    "        for puz_angle in puz[puz_i]:\n",
    "            # print(\"angle\")\n",
    "            put_flag = True\n",
    "            # check\n",
    "            new_map = mmap.copy()\n",
    "            new_coor_bw = coor_bw.copy()\n",
    "            for i,j in puz_angle:\n",
    "                x = center[0]+i\n",
    "                y = center[1]+j\n",
    "                if not ( (0<=x<8)and(0<=y<15) ):\n",
    "                    put_flag = False\n",
    "                    # print(\"out\")\n",
    "                    break                    \n",
    "                if mmap[x][y] != 0:\n",
    "                    # print(\"False\")\n",
    "                    put_flag = False\n",
    "                    break\n",
    "                else:\n",
    "                    # print(\"True\")\n",
    "                    # putting\n",
    "                    new_map[x][y] = puz_i+1\n",
    "                    for c in range(3):\n",
    "                        del_i = np.where((new_coor_bw[c][:, 0] == x) & (new_coor_bw[c][:, 1] == y))\n",
    "                        new_coor_bw[c] = np.delete(new_coor_bw[c], del_i, axis=0)\n",
    "            if put_flag:\n",
    "                used_puz[puz_i] = True\n",
    "                frag_i = -1\n",
    "                \n",
    "                check = check_fragments(new_map, new_coor_bw, center_color, used_puz)\n",
    "                if check != False:\n",
    "                    if check != True:\n",
    "                        # fragment exist but fill\n",
    "                        new_map, new_coor_bw, used_puz, frag_i = check\n",
    "                    # True, no fragment\n",
    "                else:\n",
    "                    # False, fragment exist\n",
    "                    used_puz[puz_i] = False\n",
    "                    continue\n",
    "\n",
    "                if sum(used_puz) > 10:\n",
    "                    #print(used_puz)\n",
    "                    show_map(new_map, save=True, solution=not False in used_puz)\n",
    "                    # early stop\n",
    "                    global fig\n",
    "                    if fig == -1:\n",
    "                        return 0\n",
    "\n",
    "                if putting(new_map, new_coor_bw, center_color, used_puz, used_puz.index(False)) == 0: \n",
    "                    used_puz[puz_i] = False\n",
    "                    if frag_i != -1:\n",
    "                        used_puz[frag_i] = False\n",
    "                    return 0\n",
    "                    \n",
    "                used_puz[puz_i] = False\n",
    "                if frag_i != -1:\n",
    "                    used_puz[frag_i] = False\n",
    "    return 1\n",
    "    "
   ]
  },
  {
   "cell_type": "markdown",
   "id": "377cc83b-46a4-4825-84ce-5a3347a81174",
   "metadata": {},
   "source": [
    "# **Start**"
   ]
  },
  {
   "cell_type": "code",
   "execution_count": 75,
   "id": "f81140b9-7e80-4dad-bdff-d74a72774be6",
   "metadata": {
    "scrolled": true
   },
   "outputs": [
    {
     "name": "stdout",
     "output_type": "stream",
     "text": [
      "5 [0, 2, 1, 0, 0, 0, 2, 0, 1, 0, 2, 2, 0]\n",
      "6 [0, 2, 1, 0, 0, 0, 2, 0, 0, 1, 2, 2, 0]\n",
      "7 [0, 2, 0, 1, 1, 0, 2, 0, 0, 0, 2, 2, 0]\n",
      "8 [0, 2, 0, 1, 0, 1, 2, 0, 0, 0, 2, 2, 0]\n",
      "9 [0, 2, 0, 1, 0, 0, 2, 1, 0, 0, 2, 2, 0]\n",
      "10 [0, 2, 0, 1, 0, 0, 2, 0, 1, 0, 2, 2, 0]\n",
      "11 [0, 2, 0, 1, 0, 0, 2, 0, 0, 1, 2, 2, 0]\n",
      "12 [0, 2, 0, 0, 1, 1, 2, 0, 0, 0, 2, 2, 0]\n",
      "13 [0, 2, 0, 0, 1, 0, 2, 1, 0, 0, 2, 2, 0]\n",
      "14 [0, 2, 0, 0, 1, 0, 2, 0, 1, 0, 2, 2, 0]\n",
      "15 [0, 2, 0, 0, 1, 0, 2, 0, 0, 1, 2, 2, 0]\n",
      "16 [0, 2, 0, 0, 0, 1, 2, 1, 0, 0, 2, 2, 0]\n",
      "17 [0, 2, 0, 0, 0, 1, 2, 0, 1, 0, 2, 2, 0]\n",
      "18 [0, 2, 0, 0, 0, 1, 2, 0, 0, 1, 2, 2, 0]\n",
      "19 [0, 2, 0, 0, 0, 0, 2, 1, 1, 0, 2, 2, 0]\n",
      "20 [0, 2, 0, 0, 0, 0, 2, 1, 0, 1, 2, 2, 0]\n",
      "21 [0, 2, 0, 0, 0, 0, 2, 0, 1, 1, 2, 2, 0]\n"
     ]
    }
   ],
   "source": [
    "used_puz = [False]*13\n",
    "puz_size = [len(p[0]) for p in puz]\n",
    "fig = 215\n",
    "for i, cc in enumerate(center_color[5:]):\n",
    "    print(i+5, cc)\n",
    "    putting(ori_map, coor_bw, cc, used_puz, 0)"
   ]
  },
  {
   "cell_type": "code",
   "execution_count": null,
   "id": "21bf5e7d-f098-496c-94fa-09480ab97523",
   "metadata": {},
   "outputs": [],
   "source": []
  }
 ],
 "metadata": {
  "kernelspec": {
   "display_name": "Python 3 (ipykernel)",
   "language": "python",
   "name": "python3"
  },
  "language_info": {
   "codemirror_mode": {
    "name": "ipython",
    "version": 3
   },
   "file_extension": ".py",
   "mimetype": "text/x-python",
   "name": "python",
   "nbconvert_exporter": "python",
   "pygments_lexer": "ipython3",
   "version": "3.12.7"
  }
 },
 "nbformat": 4,
 "nbformat_minor": 5
}
